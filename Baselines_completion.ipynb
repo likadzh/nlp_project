{
  "cells": [
    {
      "cell_type": "markdown",
      "id": "699238be",
      "metadata": {
        "id": "699238be"
      },
      "source": [
        "# Train/dev split"
      ]
    },
    {
      "cell_type": "code",
      "source": [
        "!git clone https://github.com/named-entity/hse-nlp/\n",
        "!cp -r ./hse-nlp/4th_year/Project/* ."
      ],
      "metadata": {
        "colab": {
          "base_uri": "https://localhost:8080/"
        },
        "id": "3ng1x5uFo_tl",
        "outputId": "2fafd51e-3e5a-4326-8040-b0329a7ac6e4"
      },
      "id": "3ng1x5uFo_tl",
      "execution_count": null,
      "outputs": [
        {
          "output_type": "stream",
          "name": "stdout",
          "text": [
            "Cloning into 'hse-nlp'...\n",
            "remote: Enumerating objects: 2841, done.\u001b[K\n",
            "remote: Counting objects: 100% (2671/2671), done.\u001b[K\n",
            "remote: Compressing objects: 100% (2544/2544), done.\u001b[K\n",
            "remote: Total 2841 (delta 278), reused 2390 (delta 119), pack-reused 170\u001b[K\n",
            "Receiving objects: 100% (2841/2841), 69.13 MiB | 12.31 MiB/s, done.\n",
            "Resolving deltas: 100% (362/362), done.\n",
            "Checking out files: 100% (2128/2128), done.\n"
          ]
        }
      ]
    },
    {
      "cell_type": "markdown",
      "id": "2c0e2817",
      "metadata": {
        "id": "2c0e2817"
      },
      "source": [
        "# Baseline 1,2: категория и тональность упоминаний\n",
        "\n",
        "Выделяем только аспекты, встретившиеся в train'е, приписываем самую частотную категорию."
      ]
    },
    {
      "cell_type": "code",
      "execution_count": null,
      "id": "87bcfc14",
      "metadata": {
        "id": "87bcfc14"
      },
      "outputs": [],
      "source": [
        "import pandas as pd"
      ]
    },
    {
      "cell_type": "code",
      "execution_count": null,
      "id": "20d96f3b",
      "metadata": {
        "id": "20d96f3b"
      },
      "outputs": [],
      "source": [
        "train_asp = pd.read_csv(\n",
        "    'train_split_aspects.txt', \n",
        "    delimiter='\\t', \n",
        "    names=['text_id', 'category', 'mention', 'start', 'end', 'sentiment']\n",
        ")\n",
        "train_texts = pd.read_csv('train_split_reviews.txt', delimiter='\\t', names=['text_id','text'])"
      ]
    },
    {
      "cell_type": "code",
      "source": [
        "train_asp.head(3)"
      ],
      "metadata": {
        "id": "UR806jaRggEK",
        "colab": {
          "base_uri": "https://localhost:8080/",
          "height": 141
        },
        "outputId": "75b75087-87d0-4262-e37c-bfadcc229584"
      },
      "id": "UR806jaRggEK",
      "execution_count": null,
      "outputs": [
        {
          "output_type": "execute_result",
          "data": {
            "text/html": [
              "\n",
              "  <div id=\"df-bd83fa5a-d9bf-4880-8ac7-68f4468b705a\">\n",
              "    <div class=\"colab-df-container\">\n",
              "      <div>\n",
              "<style scoped>\n",
              "    .dataframe tbody tr th:only-of-type {\n",
              "        vertical-align: middle;\n",
              "    }\n",
              "\n",
              "    .dataframe tbody tr th {\n",
              "        vertical-align: top;\n",
              "    }\n",
              "\n",
              "    .dataframe thead th {\n",
              "        text-align: right;\n",
              "    }\n",
              "</style>\n",
              "<table border=\"1\" class=\"dataframe\">\n",
              "  <thead>\n",
              "    <tr style=\"text-align: right;\">\n",
              "      <th></th>\n",
              "      <th>text_id</th>\n",
              "      <th>category</th>\n",
              "      <th>mention</th>\n",
              "      <th>start</th>\n",
              "      <th>end</th>\n",
              "      <th>sentiment</th>\n",
              "    </tr>\n",
              "  </thead>\n",
              "  <tbody>\n",
              "    <tr>\n",
              "      <th>0</th>\n",
              "      <td>30808</td>\n",
              "      <td>Whole</td>\n",
              "      <td>ресторане</td>\n",
              "      <td>16</td>\n",
              "      <td>25</td>\n",
              "      <td>neutral</td>\n",
              "    </tr>\n",
              "    <tr>\n",
              "      <th>1</th>\n",
              "      <td>30808</td>\n",
              "      <td>Interior</td>\n",
              "      <td>первом этаже</td>\n",
              "      <td>43</td>\n",
              "      <td>55</td>\n",
              "      <td>neutral</td>\n",
              "    </tr>\n",
              "    <tr>\n",
              "      <th>2</th>\n",
              "      <td>30808</td>\n",
              "      <td>Whole</td>\n",
              "      <td>руководству ресторана</td>\n",
              "      <td>124</td>\n",
              "      <td>145</td>\n",
              "      <td>positive</td>\n",
              "    </tr>\n",
              "  </tbody>\n",
              "</table>\n",
              "</div>\n",
              "      <button class=\"colab-df-convert\" onclick=\"convertToInteractive('df-bd83fa5a-d9bf-4880-8ac7-68f4468b705a')\"\n",
              "              title=\"Convert this dataframe to an interactive table.\"\n",
              "              style=\"display:none;\">\n",
              "        \n",
              "  <svg xmlns=\"http://www.w3.org/2000/svg\" height=\"24px\"viewBox=\"0 0 24 24\"\n",
              "       width=\"24px\">\n",
              "    <path d=\"M0 0h24v24H0V0z\" fill=\"none\"/>\n",
              "    <path d=\"M18.56 5.44l.94 2.06.94-2.06 2.06-.94-2.06-.94-.94-2.06-.94 2.06-2.06.94zm-11 1L8.5 8.5l.94-2.06 2.06-.94-2.06-.94L8.5 2.5l-.94 2.06-2.06.94zm10 10l.94 2.06.94-2.06 2.06-.94-2.06-.94-.94-2.06-.94 2.06-2.06.94z\"/><path d=\"M17.41 7.96l-1.37-1.37c-.4-.4-.92-.59-1.43-.59-.52 0-1.04.2-1.43.59L10.3 9.45l-7.72 7.72c-.78.78-.78 2.05 0 2.83L4 21.41c.39.39.9.59 1.41.59.51 0 1.02-.2 1.41-.59l7.78-7.78 2.81-2.81c.8-.78.8-2.07 0-2.86zM5.41 20L4 18.59l7.72-7.72 1.47 1.35L5.41 20z\"/>\n",
              "  </svg>\n",
              "      </button>\n",
              "      \n",
              "  <style>\n",
              "    .colab-df-container {\n",
              "      display:flex;\n",
              "      flex-wrap:wrap;\n",
              "      gap: 12px;\n",
              "    }\n",
              "\n",
              "    .colab-df-convert {\n",
              "      background-color: #E8F0FE;\n",
              "      border: none;\n",
              "      border-radius: 50%;\n",
              "      cursor: pointer;\n",
              "      display: none;\n",
              "      fill: #1967D2;\n",
              "      height: 32px;\n",
              "      padding: 0 0 0 0;\n",
              "      width: 32px;\n",
              "    }\n",
              "\n",
              "    .colab-df-convert:hover {\n",
              "      background-color: #E2EBFA;\n",
              "      box-shadow: 0px 1px 2px rgba(60, 64, 67, 0.3), 0px 1px 3px 1px rgba(60, 64, 67, 0.15);\n",
              "      fill: #174EA6;\n",
              "    }\n",
              "\n",
              "    [theme=dark] .colab-df-convert {\n",
              "      background-color: #3B4455;\n",
              "      fill: #D2E3FC;\n",
              "    }\n",
              "\n",
              "    [theme=dark] .colab-df-convert:hover {\n",
              "      background-color: #434B5C;\n",
              "      box-shadow: 0px 1px 3px 1px rgba(0, 0, 0, 0.15);\n",
              "      filter: drop-shadow(0px 1px 2px rgba(0, 0, 0, 0.3));\n",
              "      fill: #FFFFFF;\n",
              "    }\n",
              "  </style>\n",
              "\n",
              "      <script>\n",
              "        const buttonEl =\n",
              "          document.querySelector('#df-bd83fa5a-d9bf-4880-8ac7-68f4468b705a button.colab-df-convert');\n",
              "        buttonEl.style.display =\n",
              "          google.colab.kernel.accessAllowed ? 'block' : 'none';\n",
              "\n",
              "        async function convertToInteractive(key) {\n",
              "          const element = document.querySelector('#df-bd83fa5a-d9bf-4880-8ac7-68f4468b705a');\n",
              "          const dataTable =\n",
              "            await google.colab.kernel.invokeFunction('convertToInteractive',\n",
              "                                                     [key], {});\n",
              "          if (!dataTable) return;\n",
              "\n",
              "          const docLinkHtml = 'Like what you see? Visit the ' +\n",
              "            '<a target=\"_blank\" href=https://colab.research.google.com/notebooks/data_table.ipynb>data table notebook</a>'\n",
              "            + ' to learn more about interactive tables.';\n",
              "          element.innerHTML = '';\n",
              "          dataTable['output_type'] = 'display_data';\n",
              "          await google.colab.output.renderOutput(dataTable, element);\n",
              "          const docLink = document.createElement('div');\n",
              "          docLink.innerHTML = docLinkHtml;\n",
              "          element.appendChild(docLink);\n",
              "        }\n",
              "      </script>\n",
              "    </div>\n",
              "  </div>\n",
              "  "
            ],
            "text/plain": [
              "   text_id  category                mention  start  end sentiment\n",
              "0    30808     Whole              ресторане     16   25   neutral\n",
              "1    30808  Interior           первом этаже     43   55   neutral\n",
              "2    30808     Whole  руководству ресторана    124  145  positive"
            ]
          },
          "metadata": {},
          "execution_count": 4
        }
      ]
    },
    {
      "cell_type": "code",
      "source": [
        "!pip install -qq stanza"
      ],
      "metadata": {
        "id": "fjSneOMzXz17",
        "colab": {
          "base_uri": "https://localhost:8080/"
        },
        "outputId": "e89a9d25-849c-469e-e8bc-1a3b82dcb6fb"
      },
      "id": "fjSneOMzXz17",
      "execution_count": null,
      "outputs": [
        {
          "output_type": "stream",
          "name": "stdout",
          "text": [
            "\u001b[K     |████████████████████████████████| 432 kB 4.8 MB/s \n",
            "\u001b[K     |████████████████████████████████| 170 kB 42.3 MB/s \n",
            "\u001b[?25h  Building wheel for emoji (setup.py) ... \u001b[?25l\u001b[?25hdone\n"
          ]
        }
      ]
    },
    {
      "cell_type": "code",
      "execution_count": null,
      "id": "e4673f32",
      "metadata": {
        "id": "e4673f32",
        "colab": {
          "base_uri": "https://localhost:8080/",
          "height": 116,
          "referenced_widgets": [
            "7fcebf90b65b4291a21f023c39d2d96c",
            "dbb709883d0d4b59b5d3f66b66a11201",
            "fc9ea6dd7d084522a3732365e09dc10f",
            "2305137682784e6ea44dbfb6eeec7b7a",
            "7df6b71787b641c6be997022113f1bad",
            "a24856d836ea45259121af7b71f70d9d",
            "b439a724df754fd895dac84f34b6d9bd",
            "134e49a07b734a949b77d0fc898ba233",
            "7974c6c9866242e5975f372519d1794d",
            "56bb73fb7d4041aaaeb4a93505c08010",
            "f13254f3ac1a4e73850733b874ada0c1",
            "04eb0b4dba9e4e4db879c764a77d1321",
            "dede8b6c086c4985a290294f3c42f073",
            "22ba06b4426b48fa8f7e9b80126d66fb",
            "f9ef8a796e234bcc87c3034c8bc0ee8b",
            "926843cb429941379d56a1ac02cb6739",
            "44638bf47b6f48328b3e662395b8a4fc",
            "210fffe46f8d40d3b3ccd70f30116249",
            "f69d5eb9f9404d32b0e59a602263919c",
            "e92956f40f9a41889f92d0ad1903d015",
            "518ba98589024ed7bcc9aff8c4154117",
            "1f599b72b0d74551b4e08f8394160540"
          ]
        },
        "outputId": "5b1dbb68-52c9-4ff4-adf9-78813dd1c24b"
      },
      "outputs": [
        {
          "output_type": "display_data",
          "data": {
            "application/vnd.jupyter.widget-view+json": {
              "model_id": "7fcebf90b65b4291a21f023c39d2d96c",
              "version_minor": 0,
              "version_major": 2
            },
            "text/plain": [
              "Downloading https://raw.githubusercontent.com/stanfordnlp/stanza-resources/main/resources_1.3.0.json:   0%|   …"
            ]
          },
          "metadata": {}
        },
        {
          "output_type": "stream",
          "name": "stderr",
          "text": [
            "2021-12-27 13:46:52 INFO: Downloading default packages for language: ru (Russian)...\n"
          ]
        },
        {
          "output_type": "display_data",
          "data": {
            "application/vnd.jupyter.widget-view+json": {
              "model_id": "04eb0b4dba9e4e4db879c764a77d1321",
              "version_minor": 0,
              "version_major": 2
            },
            "text/plain": [
              "Downloading https://huggingface.co/stanfordnlp/stanza-ru/resolve/v1.3.0/models/default.zip:   0%|          | 0…"
            ]
          },
          "metadata": {}
        },
        {
          "output_type": "stream",
          "name": "stderr",
          "text": [
            "2021-12-27 13:47:13 INFO: Finished downloading models and saved to /root/stanza_resources.\n"
          ]
        }
      ],
      "source": [
        "import stanza\n",
        "stanza.download('ru')"
      ]
    },
    {
      "cell_type": "code",
      "execution_count": null,
      "id": "335a71e8",
      "metadata": {
        "id": "335a71e8",
        "colab": {
          "base_uri": "https://localhost:8080/"
        },
        "outputId": "059e0dd2-012a-46c8-af7e-78ba86db49be"
      },
      "outputs": [
        {
          "output_type": "stream",
          "name": "stderr",
          "text": [
            "2021-12-27 13:47:13 INFO: Loading these models for language: ru (Russian):\n",
            "=========================\n",
            "| Processor | Package   |\n",
            "-------------------------\n",
            "| tokenize  | syntagrus |\n",
            "| pos       | syntagrus |\n",
            "| lemma     | syntagrus |\n",
            "=========================\n",
            "\n",
            "2021-12-27 13:47:13 INFO: Use device: cpu\n",
            "2021-12-27 13:47:13 INFO: Loading: tokenize\n",
            "2021-12-27 13:47:13 INFO: Loading: pos\n",
            "2021-12-27 13:47:14 INFO: Loading: lemma\n",
            "2021-12-27 13:47:14 INFO: Done loading processors!\n"
          ]
        }
      ],
      "source": [
        "nlp = stanza.Pipeline('ru', processors='tokenize,pos,lemma')"
      ]
    },
    {
      "cell_type": "code",
      "source": [
        "import nltk\n",
        "from nltk.corpus import stopwords\n",
        "import string\n",
        "import re\n",
        "\n",
        "nltk.download('stopwords')"
      ],
      "metadata": {
        "id": "U92jUq33BuNB",
        "colab": {
          "base_uri": "https://localhost:8080/"
        },
        "outputId": "c2f4448f-2cd8-4611-9ed2-2a46507c8c95"
      },
      "id": "U92jUq33BuNB",
      "execution_count": null,
      "outputs": [
        {
          "output_type": "stream",
          "name": "stdout",
          "text": [
            "[nltk_data] Downloading package stopwords to /root/nltk_data...\n",
            "[nltk_data]   Unzipping corpora/stopwords.zip.\n"
          ]
        },
        {
          "output_type": "execute_result",
          "data": {
            "text/plain": [
              "True"
            ]
          },
          "metadata": {},
          "execution_count": 8
        }
      ]
    },
    {
      "cell_type": "code",
      "source": [
        "stop = stopwords.words('russian')\n",
        "exclude = set(string.punctuation)"
      ],
      "metadata": {
        "id": "s9xq0KW2B1Tg"
      },
      "id": "s9xq0KW2B1Tg",
      "execution_count": null,
      "outputs": []
    },
    {
      "cell_type": "code",
      "source": [
        "exclude.add('№')"
      ],
      "metadata": {
        "id": "YE-jhohcFxNB"
      },
      "id": "YE-jhohcFxNB",
      "execution_count": null,
      "outputs": []
    },
    {
      "cell_type": "code",
      "source": [
        "exclude = exclude | set(string.digits)"
      ],
      "metadata": {
        "id": "00Fhq2YxGZDw"
      },
      "id": "00Fhq2YxGZDw",
      "execution_count": null,
      "outputs": []
    },
    {
      "cell_type": "code",
      "source": [
        "for i in range(len(train_asp['mention'])):\n",
        "  train_asp['mention'][i] = re.sub(r'[^а-яА-Я]', ' ', train_asp['mention'][i].lower())"
      ],
      "metadata": {
        "id": "CgfFWIbcJURR",
        "colab": {
          "base_uri": "https://localhost:8080/"
        },
        "outputId": "b94cc4f1-6d61-408e-f672-72151164a3a8"
      },
      "id": "CgfFWIbcJURR",
      "execution_count": null,
      "outputs": [
        {
          "output_type": "stream",
          "name": "stderr",
          "text": [
            "/usr/local/lib/python3.7/dist-packages/ipykernel_launcher.py:2: SettingWithCopyWarning: \n",
            "A value is trying to be set on a copy of a slice from a DataFrame\n",
            "\n",
            "See the caveats in the documentation: https://pandas.pydata.org/pandas-docs/stable/user_guide/indexing.html#returning-a-view-versus-a-copy\n",
            "  \n"
          ]
        }
      ]
    },
    {
      "cell_type": "code",
      "execution_count": null,
      "id": "8237cc2d",
      "metadata": {
        "id": "8237cc2d"
      },
      "outputs": [],
      "source": [
        "def normalize(text):\n",
        "    doc = nlp(text)\n",
        "    words = [word for sent in doc.sentences for word in sent.words]\n",
        "    words = [word for word in words if str(word) not in stop]\n",
        "    words = [word.lemma for word in words if str(word) not in exclude]\n",
        "    return words"
      ]
    },
    {
      "cell_type": "code",
      "execution_count": null,
      "id": "42b115a0",
      "metadata": {
        "id": "42b115a0"
      },
      "outputs": [],
      "source": [
        "from collections import defaultdict, Counter"
      ]
    },
    {
      "cell_type": "code",
      "execution_count": null,
      "id": "ce707ba5",
      "metadata": {
        "id": "ce707ba5"
      },
      "outputs": [],
      "source": [
        "train_asp['norm_mention'] = [tuple(normalize(m)) for m in train_asp['mention']]"
      ]
    },
    {
      "cell_type": "code",
      "source": [
        "train_asp"
      ],
      "metadata": {
        "id": "i53VJuqPhboM",
        "colab": {
          "base_uri": "https://localhost:8080/",
          "height": 494
        },
        "outputId": "ea00f7f0-9229-49d8-adce-15b162e74c2a"
      },
      "id": "i53VJuqPhboM",
      "execution_count": null,
      "outputs": [
        {
          "output_type": "execute_result",
          "data": {
            "text/html": [
              "\n",
              "  <div id=\"df-1c4d11e7-e933-4409-a1c5-4e788f5de4c4\">\n",
              "    <div class=\"colab-df-container\">\n",
              "      <div>\n",
              "<style scoped>\n",
              "    .dataframe tbody tr th:only-of-type {\n",
              "        vertical-align: middle;\n",
              "    }\n",
              "\n",
              "    .dataframe tbody tr th {\n",
              "        vertical-align: top;\n",
              "    }\n",
              "\n",
              "    .dataframe thead th {\n",
              "        text-align: right;\n",
              "    }\n",
              "</style>\n",
              "<table border=\"1\" class=\"dataframe\">\n",
              "  <thead>\n",
              "    <tr style=\"text-align: right;\">\n",
              "      <th></th>\n",
              "      <th>text_id</th>\n",
              "      <th>category</th>\n",
              "      <th>mention</th>\n",
              "      <th>start</th>\n",
              "      <th>end</th>\n",
              "      <th>sentiment</th>\n",
              "      <th>norm_mention</th>\n",
              "    </tr>\n",
              "  </thead>\n",
              "  <tbody>\n",
              "    <tr>\n",
              "      <th>0</th>\n",
              "      <td>30808</td>\n",
              "      <td>Whole</td>\n",
              "      <td>ресторане</td>\n",
              "      <td>16</td>\n",
              "      <td>25</td>\n",
              "      <td>neutral</td>\n",
              "      <td>(ресторан,)</td>\n",
              "    </tr>\n",
              "    <tr>\n",
              "      <th>1</th>\n",
              "      <td>30808</td>\n",
              "      <td>Interior</td>\n",
              "      <td>первом этаже</td>\n",
              "      <td>43</td>\n",
              "      <td>55</td>\n",
              "      <td>neutral</td>\n",
              "      <td>(первый, этаж)</td>\n",
              "    </tr>\n",
              "    <tr>\n",
              "      <th>2</th>\n",
              "      <td>30808</td>\n",
              "      <td>Whole</td>\n",
              "      <td>руководству ресторана</td>\n",
              "      <td>124</td>\n",
              "      <td>145</td>\n",
              "      <td>positive</td>\n",
              "      <td>(руководство, ресторан)</td>\n",
              "    </tr>\n",
              "    <tr>\n",
              "      <th>3</th>\n",
              "      <td>30808</td>\n",
              "      <td>Service</td>\n",
              "      <td>обслуживающему персоналу</td>\n",
              "      <td>147</td>\n",
              "      <td>171</td>\n",
              "      <td>positive</td>\n",
              "      <td>(обслуживать, персонал)</td>\n",
              "    </tr>\n",
              "    <tr>\n",
              "      <th>4</th>\n",
              "      <td>30808</td>\n",
              "      <td>Service</td>\n",
              "      <td>сотрудникам</td>\n",
              "      <td>189</td>\n",
              "      <td>200</td>\n",
              "      <td>positive</td>\n",
              "      <td>(сотрудник,)</td>\n",
              "    </tr>\n",
              "    <tr>\n",
              "      <th>...</th>\n",
              "      <td>...</td>\n",
              "      <td>...</td>\n",
              "      <td>...</td>\n",
              "      <td>...</td>\n",
              "      <td>...</td>\n",
              "      <td>...</td>\n",
              "      <td>...</td>\n",
              "    </tr>\n",
              "    <tr>\n",
              "      <th>3568</th>\n",
              "      <td>16630</td>\n",
              "      <td>Service</td>\n",
              "      <td>обслуживание</td>\n",
              "      <td>85</td>\n",
              "      <td>97</td>\n",
              "      <td>positive</td>\n",
              "      <td>(обслуживание,)</td>\n",
              "    </tr>\n",
              "    <tr>\n",
              "      <th>3569</th>\n",
              "      <td>16630</td>\n",
              "      <td>Food</td>\n",
              "      <td>еда</td>\n",
              "      <td>99</td>\n",
              "      <td>102</td>\n",
              "      <td>positive</td>\n",
              "      <td>(еда,)</td>\n",
              "    </tr>\n",
              "    <tr>\n",
              "      <th>3570</th>\n",
              "      <td>16630</td>\n",
              "      <td>Service</td>\n",
              "      <td>персоналу</td>\n",
              "      <td>244</td>\n",
              "      <td>253</td>\n",
              "      <td>positive</td>\n",
              "      <td>(персонал,)</td>\n",
              "    </tr>\n",
              "    <tr>\n",
              "      <th>3571</th>\n",
              "      <td>16630</td>\n",
              "      <td>Whole</td>\n",
              "      <td>ресторан</td>\n",
              "      <td>294</td>\n",
              "      <td>302</td>\n",
              "      <td>positive</td>\n",
              "      <td>(ресторан,)</td>\n",
              "    </tr>\n",
              "    <tr>\n",
              "      <th>3572</th>\n",
              "      <td>16630</td>\n",
              "      <td>Whole</td>\n",
              "      <td>место</td>\n",
              "      <td>315</td>\n",
              "      <td>320</td>\n",
              "      <td>positive</td>\n",
              "      <td>(место,)</td>\n",
              "    </tr>\n",
              "  </tbody>\n",
              "</table>\n",
              "<p>3573 rows × 7 columns</p>\n",
              "</div>\n",
              "      <button class=\"colab-df-convert\" onclick=\"convertToInteractive('df-1c4d11e7-e933-4409-a1c5-4e788f5de4c4')\"\n",
              "              title=\"Convert this dataframe to an interactive table.\"\n",
              "              style=\"display:none;\">\n",
              "        \n",
              "  <svg xmlns=\"http://www.w3.org/2000/svg\" height=\"24px\"viewBox=\"0 0 24 24\"\n",
              "       width=\"24px\">\n",
              "    <path d=\"M0 0h24v24H0V0z\" fill=\"none\"/>\n",
              "    <path d=\"M18.56 5.44l.94 2.06.94-2.06 2.06-.94-2.06-.94-.94-2.06-.94 2.06-2.06.94zm-11 1L8.5 8.5l.94-2.06 2.06-.94-2.06-.94L8.5 2.5l-.94 2.06-2.06.94zm10 10l.94 2.06.94-2.06 2.06-.94-2.06-.94-.94-2.06-.94 2.06-2.06.94z\"/><path d=\"M17.41 7.96l-1.37-1.37c-.4-.4-.92-.59-1.43-.59-.52 0-1.04.2-1.43.59L10.3 9.45l-7.72 7.72c-.78.78-.78 2.05 0 2.83L4 21.41c.39.39.9.59 1.41.59.51 0 1.02-.2 1.41-.59l7.78-7.78 2.81-2.81c.8-.78.8-2.07 0-2.86zM5.41 20L4 18.59l7.72-7.72 1.47 1.35L5.41 20z\"/>\n",
              "  </svg>\n",
              "      </button>\n",
              "      \n",
              "  <style>\n",
              "    .colab-df-container {\n",
              "      display:flex;\n",
              "      flex-wrap:wrap;\n",
              "      gap: 12px;\n",
              "    }\n",
              "\n",
              "    .colab-df-convert {\n",
              "      background-color: #E8F0FE;\n",
              "      border: none;\n",
              "      border-radius: 50%;\n",
              "      cursor: pointer;\n",
              "      display: none;\n",
              "      fill: #1967D2;\n",
              "      height: 32px;\n",
              "      padding: 0 0 0 0;\n",
              "      width: 32px;\n",
              "    }\n",
              "\n",
              "    .colab-df-convert:hover {\n",
              "      background-color: #E2EBFA;\n",
              "      box-shadow: 0px 1px 2px rgba(60, 64, 67, 0.3), 0px 1px 3px 1px rgba(60, 64, 67, 0.15);\n",
              "      fill: #174EA6;\n",
              "    }\n",
              "\n",
              "    [theme=dark] .colab-df-convert {\n",
              "      background-color: #3B4455;\n",
              "      fill: #D2E3FC;\n",
              "    }\n",
              "\n",
              "    [theme=dark] .colab-df-convert:hover {\n",
              "      background-color: #434B5C;\n",
              "      box-shadow: 0px 1px 3px 1px rgba(0, 0, 0, 0.15);\n",
              "      filter: drop-shadow(0px 1px 2px rgba(0, 0, 0, 0.3));\n",
              "      fill: #FFFFFF;\n",
              "    }\n",
              "  </style>\n",
              "\n",
              "      <script>\n",
              "        const buttonEl =\n",
              "          document.querySelector('#df-1c4d11e7-e933-4409-a1c5-4e788f5de4c4 button.colab-df-convert');\n",
              "        buttonEl.style.display =\n",
              "          google.colab.kernel.accessAllowed ? 'block' : 'none';\n",
              "\n",
              "        async function convertToInteractive(key) {\n",
              "          const element = document.querySelector('#df-1c4d11e7-e933-4409-a1c5-4e788f5de4c4');\n",
              "          const dataTable =\n",
              "            await google.colab.kernel.invokeFunction('convertToInteractive',\n",
              "                                                     [key], {});\n",
              "          if (!dataTable) return;\n",
              "\n",
              "          const docLinkHtml = 'Like what you see? Visit the ' +\n",
              "            '<a target=\"_blank\" href=https://colab.research.google.com/notebooks/data_table.ipynb>data table notebook</a>'\n",
              "            + ' to learn more about interactive tables.';\n",
              "          element.innerHTML = '';\n",
              "          dataTable['output_type'] = 'display_data';\n",
              "          await google.colab.output.renderOutput(dataTable, element);\n",
              "          const docLink = document.createElement('div');\n",
              "          docLink.innerHTML = docLinkHtml;\n",
              "          element.appendChild(docLink);\n",
              "        }\n",
              "      </script>\n",
              "    </div>\n",
              "  </div>\n",
              "  "
            ],
            "text/plain": [
              "      text_id  category  ... sentiment             norm_mention\n",
              "0       30808     Whole  ...   neutral              (ресторан,)\n",
              "1       30808  Interior  ...   neutral           (первый, этаж)\n",
              "2       30808     Whole  ...  positive  (руководство, ресторан)\n",
              "3       30808   Service  ...  positive  (обслуживать, персонал)\n",
              "4       30808   Service  ...  positive             (сотрудник,)\n",
              "...       ...       ...  ...       ...                      ...\n",
              "3568    16630   Service  ...  positive          (обслуживание,)\n",
              "3569    16630      Food  ...  positive                   (еда,)\n",
              "3570    16630   Service  ...  positive              (персонал,)\n",
              "3571    16630     Whole  ...  positive              (ресторан,)\n",
              "3572    16630     Whole  ...  positive                 (место,)\n",
              "\n",
              "[3573 rows x 7 columns]"
            ]
          },
          "metadata": {},
          "execution_count": 16
        }
      ]
    },
    {
      "cell_type": "markdown",
      "id": "56b87916",
      "metadata": {
        "id": "56b87916"
      },
      "source": [
        "Строим частотный словарь \"токенизированное упоминание + категория\"\n",
        "\n",
        "Категория - аспектная категория или тональность"
      ]
    },
    {
      "cell_type": "code",
      "execution_count": null,
      "id": "89e2d282",
      "metadata": {
        "id": "89e2d282"
      },
      "outputs": [],
      "source": [
        "def get_mention_category(data, cat_type):\n",
        "    mention_categories = data.value_counts(subset=['norm_mention', cat_type])\n",
        "    mention_categories_dict = defaultdict(dict)\n",
        "    for key, value in mention_categories.items():\n",
        "        mention_categories_dict[key[0]][key[1]] = value\n",
        "    return {k: Counter(v).most_common(1)[0][0] for k, v in mention_categories_dict.items()}"
      ]
    },
    {
      "cell_type": "code",
      "execution_count": null,
      "id": "0392994a",
      "metadata": {
        "id": "0392994a"
      },
      "outputs": [],
      "source": [
        "best_mention_cat = get_mention_category(train_asp, 'category')"
      ]
    },
    {
      "cell_type": "code",
      "execution_count": null,
      "id": "a87cad27",
      "metadata": {
        "id": "a87cad27"
      },
      "outputs": [],
      "source": [
        "best_mention_sentiment = get_mention_category(train_asp, 'sentiment')"
      ]
    },
    {
      "cell_type": "code",
      "execution_count": null,
      "id": "b7509525",
      "metadata": {
        "id": "b7509525"
      },
      "outputs": [],
      "source": [
        "dev_texts = pd.read_csv('dev_reviews.txt', delimiter='\\t', names=['text_id', 'text'])"
      ]
    },
    {
      "cell_type": "code",
      "execution_count": null,
      "id": "83212c86",
      "metadata": {
        "id": "83212c86",
        "colab": {
          "base_uri": "https://localhost:8080/",
          "height": 415
        },
        "outputId": "c42caaed-d7ec-4140-f15e-8912809d38d8"
      },
      "outputs": [
        {
          "output_type": "execute_result",
          "data": {
            "text/html": [
              "\n",
              "  <div id=\"df-a790fac6-04c8-4339-ab6d-694e12801e07\">\n",
              "    <div class=\"colab-df-container\">\n",
              "      <div>\n",
              "<style scoped>\n",
              "    .dataframe tbody tr th:only-of-type {\n",
              "        vertical-align: middle;\n",
              "    }\n",
              "\n",
              "    .dataframe tbody tr th {\n",
              "        vertical-align: top;\n",
              "    }\n",
              "\n",
              "    .dataframe thead th {\n",
              "        text-align: right;\n",
              "    }\n",
              "</style>\n",
              "<table border=\"1\" class=\"dataframe\">\n",
              "  <thead>\n",
              "    <tr style=\"text-align: right;\">\n",
              "      <th></th>\n",
              "      <th>text_id</th>\n",
              "      <th>text</th>\n",
              "    </tr>\n",
              "  </thead>\n",
              "  <tbody>\n",
              "    <tr>\n",
              "      <th>0</th>\n",
              "      <td>13823</td>\n",
              "      <td>Зашли в\"аппетит\" случайно.Не смотря на то,что ...</td>\n",
              "    </tr>\n",
              "    <tr>\n",
              "      <th>1</th>\n",
              "      <td>1427</td>\n",
              "      <td>Здравствуйте!Посетили ваше заведение вчера пер...</td>\n",
              "    </tr>\n",
              "    <tr>\n",
              "      <th>2</th>\n",
              "      <td>16714</td>\n",
              "      <td>Были в пятницу (19.03.10), заказывали столик д...</td>\n",
              "    </tr>\n",
              "    <tr>\n",
              "      <th>3</th>\n",
              "      <td>797</td>\n",
              "      <td>Были в ресторане 2 раза. Один раз днем, все по...</td>\n",
              "    </tr>\n",
              "    <tr>\n",
              "      <th>4</th>\n",
              "      <td>34710</td>\n",
              "      <td>Удивляюсь отзывам про хорошее обслуживание. Бы...</td>\n",
              "    </tr>\n",
              "    <tr>\n",
              "      <th>...</th>\n",
              "      <td>...</td>\n",
              "      <td>...</td>\n",
              "    </tr>\n",
              "    <tr>\n",
              "      <th>66</th>\n",
              "      <td>9216</td>\n",
              "      <td>Вы брали этот ресторан так как он близко от до...</td>\n",
              "    </tr>\n",
              "    <tr>\n",
              "      <th>67</th>\n",
              "      <td>8996</td>\n",
              "      <td>Были с друзьями в пабе Метрополь, всё очень по...</td>\n",
              "    </tr>\n",
              "    <tr>\n",
              "      <th>68</th>\n",
              "      <td>38299</td>\n",
              "      <td>Случайно увидели акцию на сайте купонов, решил...</td>\n",
              "    </tr>\n",
              "    <tr>\n",
              "      <th>69</th>\n",
              "      <td>37819</td>\n",
              "      <td>Очень долго выбирали ресторан на Новогодний ка...</td>\n",
              "    </tr>\n",
              "    <tr>\n",
              "      <th>70</th>\n",
              "      <td>11770</td>\n",
              "      <td>Была пару раз в пабе, очень понравилось. Вкусн...</td>\n",
              "    </tr>\n",
              "  </tbody>\n",
              "</table>\n",
              "<p>71 rows × 2 columns</p>\n",
              "</div>\n",
              "      <button class=\"colab-df-convert\" onclick=\"convertToInteractive('df-a790fac6-04c8-4339-ab6d-694e12801e07')\"\n",
              "              title=\"Convert this dataframe to an interactive table.\"\n",
              "              style=\"display:none;\">\n",
              "        \n",
              "  <svg xmlns=\"http://www.w3.org/2000/svg\" height=\"24px\"viewBox=\"0 0 24 24\"\n",
              "       width=\"24px\">\n",
              "    <path d=\"M0 0h24v24H0V0z\" fill=\"none\"/>\n",
              "    <path d=\"M18.56 5.44l.94 2.06.94-2.06 2.06-.94-2.06-.94-.94-2.06-.94 2.06-2.06.94zm-11 1L8.5 8.5l.94-2.06 2.06-.94-2.06-.94L8.5 2.5l-.94 2.06-2.06.94zm10 10l.94 2.06.94-2.06 2.06-.94-2.06-.94-.94-2.06-.94 2.06-2.06.94z\"/><path d=\"M17.41 7.96l-1.37-1.37c-.4-.4-.92-.59-1.43-.59-.52 0-1.04.2-1.43.59L10.3 9.45l-7.72 7.72c-.78.78-.78 2.05 0 2.83L4 21.41c.39.39.9.59 1.41.59.51 0 1.02-.2 1.41-.59l7.78-7.78 2.81-2.81c.8-.78.8-2.07 0-2.86zM5.41 20L4 18.59l7.72-7.72 1.47 1.35L5.41 20z\"/>\n",
              "  </svg>\n",
              "      </button>\n",
              "      \n",
              "  <style>\n",
              "    .colab-df-container {\n",
              "      display:flex;\n",
              "      flex-wrap:wrap;\n",
              "      gap: 12px;\n",
              "    }\n",
              "\n",
              "    .colab-df-convert {\n",
              "      background-color: #E8F0FE;\n",
              "      border: none;\n",
              "      border-radius: 50%;\n",
              "      cursor: pointer;\n",
              "      display: none;\n",
              "      fill: #1967D2;\n",
              "      height: 32px;\n",
              "      padding: 0 0 0 0;\n",
              "      width: 32px;\n",
              "    }\n",
              "\n",
              "    .colab-df-convert:hover {\n",
              "      background-color: #E2EBFA;\n",
              "      box-shadow: 0px 1px 2px rgba(60, 64, 67, 0.3), 0px 1px 3px 1px rgba(60, 64, 67, 0.15);\n",
              "      fill: #174EA6;\n",
              "    }\n",
              "\n",
              "    [theme=dark] .colab-df-convert {\n",
              "      background-color: #3B4455;\n",
              "      fill: #D2E3FC;\n",
              "    }\n",
              "\n",
              "    [theme=dark] .colab-df-convert:hover {\n",
              "      background-color: #434B5C;\n",
              "      box-shadow: 0px 1px 3px 1px rgba(0, 0, 0, 0.15);\n",
              "      filter: drop-shadow(0px 1px 2px rgba(0, 0, 0, 0.3));\n",
              "      fill: #FFFFFF;\n",
              "    }\n",
              "  </style>\n",
              "\n",
              "      <script>\n",
              "        const buttonEl =\n",
              "          document.querySelector('#df-a790fac6-04c8-4339-ab6d-694e12801e07 button.colab-df-convert');\n",
              "        buttonEl.style.display =\n",
              "          google.colab.kernel.accessAllowed ? 'block' : 'none';\n",
              "\n",
              "        async function convertToInteractive(key) {\n",
              "          const element = document.querySelector('#df-a790fac6-04c8-4339-ab6d-694e12801e07');\n",
              "          const dataTable =\n",
              "            await google.colab.kernel.invokeFunction('convertToInteractive',\n",
              "                                                     [key], {});\n",
              "          if (!dataTable) return;\n",
              "\n",
              "          const docLinkHtml = 'Like what you see? Visit the ' +\n",
              "            '<a target=\"_blank\" href=https://colab.research.google.com/notebooks/data_table.ipynb>data table notebook</a>'\n",
              "            + ' to learn more about interactive tables.';\n",
              "          element.innerHTML = '';\n",
              "          dataTable['output_type'] = 'display_data';\n",
              "          await google.colab.output.renderOutput(dataTable, element);\n",
              "          const docLink = document.createElement('div');\n",
              "          docLink.innerHTML = docLinkHtml;\n",
              "          element.appendChild(docLink);\n",
              "        }\n",
              "      </script>\n",
              "    </div>\n",
              "  </div>\n",
              "  "
            ],
            "text/plain": [
              "    text_id                                               text\n",
              "0     13823  Зашли в\"аппетит\" случайно.Не смотря на то,что ...\n",
              "1      1427  Здравствуйте!Посетили ваше заведение вчера пер...\n",
              "2     16714  Были в пятницу (19.03.10), заказывали столик д...\n",
              "3       797  Были в ресторане 2 раза. Один раз днем, все по...\n",
              "4     34710  Удивляюсь отзывам про хорошее обслуживание. Бы...\n",
              "..      ...                                                ...\n",
              "66     9216  Вы брали этот ресторан так как он близко от до...\n",
              "67     8996  Были с друзьями в пабе Метрополь, всё очень по...\n",
              "68    38299  Случайно увидели акцию на сайте купонов, решил...\n",
              "69    37819  Очень долго выбирали ресторан на Новогодний ка...\n",
              "70    11770  Была пару раз в пабе, очень понравилось. Вкусн...\n",
              "\n",
              "[71 rows x 2 columns]"
            ]
          },
          "metadata": {},
          "execution_count": 49
        }
      ],
      "source": [
        "dev_texts"
      ]
    },
    {
      "cell_type": "markdown",
      "id": "479e6faa",
      "metadata": {
        "id": "479e6faa"
      },
      "source": [
        "Длины упоминаний аспектов в трейне:"
      ]
    },
    {
      "cell_type": "code",
      "execution_count": null,
      "id": "a37fc436",
      "metadata": {
        "id": "a37fc436",
        "colab": {
          "base_uri": "https://localhost:8080/"
        },
        "outputId": "7aaa4ae5-59d8-4694-a793-bb5eb0e37a5c"
      },
      "outputs": [
        {
          "output_type": "execute_result",
          "data": {
            "text/plain": [
              "Counter({0: 1, 1: 479, 2: 322, 3: 144, 4: 48, 5: 22, 6: 7, 7: 7, 8: 2})"
            ]
          },
          "metadata": {},
          "execution_count": 50
        }
      ],
      "source": [
        "Counter([len(x) for x in best_mention_cat.keys()])"
      ]
    },
    {
      "cell_type": "markdown",
      "source": [
        "Для каждого существительного добавим в словарь упоминания схожих слов. Будем считать их словами той же категории, что и исходное слово"
      ],
      "metadata": {
        "id": "luoh5EJbxYp7"
      },
      "id": "luoh5EJbxYp7"
    },
    {
      "cell_type": "code",
      "source": [
        "!pip install git+https://github.com/lopuhin/python-adagram.git"
      ],
      "metadata": {
        "colab": {
          "base_uri": "https://localhost:8080/"
        },
        "id": "FYp91ZTfy33q",
        "outputId": "9d538f0c-2a5d-4938-859b-1aa3d8ede29b"
      },
      "id": "FYp91ZTfy33q",
      "execution_count": null,
      "outputs": [
        {
          "output_type": "stream",
          "name": "stdout",
          "text": [
            "Collecting git+https://github.com/lopuhin/python-adagram.git\n",
            "  Cloning https://github.com/lopuhin/python-adagram.git to /tmp/pip-req-build-icseh7tf\n",
            "  Running command git clone -q https://github.com/lopuhin/python-adagram.git /tmp/pip-req-build-icseh7tf\n",
            "Requirement already satisfied: cython in /usr/local/lib/python3.7/dist-packages (from adagram==0.0.1) (0.29.24)\n",
            "Requirement already satisfied: joblib in /usr/local/lib/python3.7/dist-packages (from adagram==0.0.1) (1.1.0)\n",
            "Requirement already satisfied: numpy>=1.9 in /usr/local/lib/python3.7/dist-packages (from adagram==0.0.1) (1.19.5)\n",
            "Requirement already satisfied: six in /usr/local/lib/python3.7/dist-packages (from adagram==0.0.1) (1.15.0)\n",
            "Building wheels for collected packages: adagram\n",
            "  Building wheel for adagram (setup.py) ... \u001b[?25l\u001b[?25hdone\n",
            "  Created wheel for adagram: filename=adagram-0.0.1-cp37-cp37m-linux_x86_64.whl size=449886 sha256=1f84db6fd783596b7b92c4b07357446d11b6c38cc0afc63843f93f14acae5ae8\n",
            "  Stored in directory: /tmp/pip-ephem-wheel-cache-7pa4y4rq/wheels/5a/8c/f9/7dee902dd325a3317e768f126aa6f7aa085c79a6e763ed2cb8\n",
            "Successfully built adagram\n",
            "Installing collected packages: adagram\n",
            "Successfully installed adagram-0.0.1\n"
          ]
        }
      ]
    },
    {
      "cell_type": "code",
      "source": [
        "!curl \"https://s3.amazonaws.com/kostia.lopuhin/all.a010.p10.d300.w5.m100.nonorm.slim.joblib\" > all.a010.p10.d300.w5.m100.nonorm.slim.joblib"
      ],
      "metadata": {
        "colab": {
          "base_uri": "https://localhost:8080/"
        },
        "id": "BN7XZC4-0rDF",
        "outputId": "ebd71b62-110e-482f-ecff-f3b213142923"
      },
      "id": "BN7XZC4-0rDF",
      "execution_count": null,
      "outputs": [
        {
          "output_type": "stream",
          "name": "stdout",
          "text": [
            "  % Total    % Received % Xferd  Average Speed   Time    Time     Time  Current\n",
            "                                 Dload  Upload   Total   Spent    Left  Speed\n",
            "100 1394M  100 1394M    0     0  48.3M      0  0:00:28  0:00:28 --:--:-- 45.4M\n"
          ]
        }
      ]
    },
    {
      "cell_type": "code",
      "source": [
        "import adagram\n",
        "\n",
        "vm = adagram.VectorModel.load('all.a010.p10.d300.w5.m100.nonorm.slim.joblib')"
      ],
      "metadata": {
        "id": "kQsrGI960o9c"
      },
      "id": "kQsrGI960o9c",
      "execution_count": null,
      "outputs": []
    },
    {
      "cell_type": "code",
      "source": [
        "for t in list(best_mention_cat.keys()):\n",
        "  if len(t) != 1:\n",
        "    continue\n",
        "  if nlp(t[0]).sentences[0].words[0].upos != \"NOUN\":\n",
        "    continue\n",
        "  try:\n",
        "    for neighbor in vm.sense_neighbors(t[0], 0)[:1]:\n",
        "      best_mention_cat[tuple([neighbor[0]])] = best_mention_cat[t]\n",
        "      best_mention_sentiment[tuple([neighbor[0]])] = best_mention_sentiment[t]\n",
        "  except KeyError:\n",
        "    continue"
      ],
      "metadata": {
        "colab": {
          "base_uri": "https://localhost:8080/"
        },
        "id": "2hMjbPz_x1Fg",
        "outputId": "71b29f36-4312-46d1-b6c9-17fac36b5176"
      },
      "id": "2hMjbPz_x1Fg",
      "execution_count": null,
      "outputs": [
        {
          "output_type": "stream",
          "name": "stderr",
          "text": [
            "/usr/local/lib/python3.7/dist-packages/adagram/model.py:124: RuntimeWarning: invalid value encountered in true_divide\n",
            "  sim_matrix = np.dot(self.In, s_v) / self.InNorms\n"
          ]
        }
      ]
    },
    {
      "cell_type": "markdown",
      "source": [
        "Установим спелл-чекер и будем пытаться исправить слово перед тем, как проверять его наличие в словаре:"
      ],
      "metadata": {
        "id": "xTAyvU9lJl5X"
      },
      "id": "xTAyvU9lJl5X"
    },
    {
      "cell_type": "code",
      "source": [
        "!sudo apt-get install swig\n",
        "!sudo pip install jamspell\n",
        "!wget https://github.com/bakwc/JamSpell-models/raw/master/ru.tar.gz\n",
        "!tar -xzf ru.tar.gz"
      ],
      "metadata": {
        "colab": {
          "base_uri": "https://localhost:8080/"
        },
        "id": "ARO0Z-6FEDcU",
        "outputId": "f44fccdc-a14b-4dc4-c39d-807798dac16f"
      },
      "id": "ARO0Z-6FEDcU",
      "execution_count": null,
      "outputs": [
        {
          "output_type": "stream",
          "name": "stdout",
          "text": [
            "Reading package lists... Done\n",
            "Building dependency tree       \n",
            "Reading state information... Done\n",
            "The following additional packages will be installed:\n",
            "  swig3.0\n",
            "Suggested packages:\n",
            "  swig-doc swig-examples swig3.0-examples swig3.0-doc\n",
            "The following NEW packages will be installed:\n",
            "  swig swig3.0\n",
            "0 upgraded, 2 newly installed, 0 to remove and 37 not upgraded.\n",
            "Need to get 1,100 kB of archives.\n",
            "After this operation, 5,822 kB of additional disk space will be used.\n",
            "Get:1 http://archive.ubuntu.com/ubuntu bionic/universe amd64 swig3.0 amd64 3.0.12-1 [1,094 kB]\n",
            "Get:2 http://archive.ubuntu.com/ubuntu bionic/universe amd64 swig amd64 3.0.12-1 [6,460 B]\n",
            "Fetched 1,100 kB in 2s (689 kB/s)\n",
            "debconf: unable to initialize frontend: Dialog\n",
            "debconf: (No usable dialog-like program is installed, so the dialog based frontend cannot be used. at /usr/share/perl5/Debconf/FrontEnd/Dialog.pm line 76, <> line 2.)\n",
            "debconf: falling back to frontend: Readline\n",
            "debconf: unable to initialize frontend: Readline\n",
            "debconf: (This frontend requires a controlling tty.)\n",
            "debconf: falling back to frontend: Teletype\n",
            "dpkg-preconfigure: unable to re-open stdin: \n",
            "Selecting previously unselected package swig3.0.\n",
            "(Reading database ... 155222 files and directories currently installed.)\n",
            "Preparing to unpack .../swig3.0_3.0.12-1_amd64.deb ...\n",
            "Unpacking swig3.0 (3.0.12-1) ...\n",
            "Selecting previously unselected package swig.\n",
            "Preparing to unpack .../swig_3.0.12-1_amd64.deb ...\n",
            "Unpacking swig (3.0.12-1) ...\n",
            "Setting up swig3.0 (3.0.12-1) ...\n",
            "Setting up swig (3.0.12-1) ...\n",
            "Processing triggers for man-db (2.8.3-2ubuntu0.1) ...\n",
            "Collecting jamspell\n",
            "  Downloading jamspell-0.0.12.tar.gz (174 kB)\n",
            "\u001b[K     |████████████████████████████████| 174 kB 5.3 MB/s \n",
            "\u001b[?25hBuilding wheels for collected packages: jamspell\n",
            "  Building wheel for jamspell (setup.py) ... \u001b[?25l\u001b[?25hdone\n",
            "  Created wheel for jamspell: filename=jamspell-0.0.12-cp37-cp37m-linux_x86_64.whl size=1347597 sha256=d800ee598132bd6ca8efb57df06dbc73710f9c87452a467db815e93ad100cf34\n",
            "  Stored in directory: /root/.cache/pip/wheels/68/df/9c/9b335e69aa0f28e7f508ec0ebefadcc703f168beb52ae7ebe7\n",
            "Successfully built jamspell\n",
            "Installing collected packages: jamspell\n",
            "Successfully installed jamspell-0.0.12\n",
            "--2021-12-27 13:51:38--  https://github.com/bakwc/JamSpell-models/raw/master/ru.tar.gz\n",
            "Resolving github.com (github.com)... 140.82.112.4\n",
            "Connecting to github.com (github.com)|140.82.112.4|:443... connected.\n",
            "HTTP request sent, awaiting response... 302 Found\n",
            "Location: https://raw.githubusercontent.com/bakwc/JamSpell-models/master/ru.tar.gz [following]\n",
            "--2021-12-27 13:51:39--  https://raw.githubusercontent.com/bakwc/JamSpell-models/master/ru.tar.gz\n",
            "Resolving raw.githubusercontent.com (raw.githubusercontent.com)... 185.199.108.133, 185.199.109.133, 185.199.110.133, ...\n",
            "Connecting to raw.githubusercontent.com (raw.githubusercontent.com)|185.199.108.133|:443... connected.\n",
            "HTTP request sent, awaiting response... 200 OK\n",
            "Length: 39663667 (38M) [application/octet-stream]\n",
            "Saving to: ‘ru.tar.gz’\n",
            "\n",
            "ru.tar.gz           100%[===================>]  37.83M   186MB/s    in 0.2s    \n",
            "\n",
            "2021-12-27 13:51:40 (186 MB/s) - ‘ru.tar.gz’ saved [39663667/39663667]\n",
            "\n"
          ]
        }
      ]
    },
    {
      "cell_type": "code",
      "source": [
        "import jamspell\n",
        "\n",
        "corrector = jamspell.TSpellCorrector()\n",
        "corrector.LoadLangModel('ru_small.bin')"
      ],
      "metadata": {
        "colab": {
          "base_uri": "https://localhost:8080/"
        },
        "id": "3JMCCwdtDcj2",
        "outputId": "1f86393b-b8ab-41ee-d920-794ab84eb4e0"
      },
      "id": "3JMCCwdtDcj2",
      "execution_count": null,
      "outputs": [
        {
          "output_type": "execute_result",
          "data": {
            "text/plain": [
              "True"
            ]
          },
          "metadata": {},
          "execution_count": 28
        }
      ]
    },
    {
      "cell_type": "markdown",
      "id": "ec215e94",
      "metadata": {
        "id": "ec215e94"
      },
      "source": [
        "Будем учитывать только упоминания длиной 1-5 токенов. Исключим слова, которые входят в найденные раньше n-граммы:"
      ]
    },
    {
      "cell_type": "code",
      "execution_count": null,
      "id": "746d73ac",
      "metadata": {
        "id": "746d73ac"
      },
      "outputs": [],
      "source": [
        "def label_texts(text, mentions, sentiments, max_len=5):\n",
        "    tokenized = [word for sent in nlp(text).sentences for word in sent.words]\n",
        "    text_end = len(tokenized)\n",
        "    prev_end = 0\n",
        "    for i, token in enumerate(tokenized):\n",
        "        for l in reversed(range(max_len)):\n",
        "            if i + l > text_end:\n",
        "                continue\n",
        "            span = tokenized[i:i + l]\n",
        "            key = tuple([corrector.FixFragment(t.lemma) for t in span])\n",
        "            if key in mentions and span:\n",
        "                start, end = span[0].start_char, span[-1].end_char\n",
        "                if start < prev_end:\n",
        "                    continue\n",
        "                prev_end = end\n",
        "                yield mentions[key], text[start:end], start, end, sentiments[key]\n",
        "                break"
      ]
    },
    {
      "cell_type": "markdown",
      "id": "231c65ad",
      "metadata": {
        "id": "231c65ad"
      },
      "source": [
        "Применяем полученные данные к текстам из dev:"
      ]
    },
    {
      "cell_type": "code",
      "execution_count": null,
      "id": "c7acb5ab",
      "metadata": {
        "id": "c7acb5ab"
      },
      "outputs": [],
      "source": [
        "with open('dev_pred_aspects.txt', 'w') as f:\n",
        "    for text, idx in zip(dev_texts['text'], dev_texts['text_id']):\n",
        "        for asp in label_texts(text, best_mention_cat, best_mention_sentiment):\n",
        "            print(idx, *asp, sep=\"\\t\", file=f)"
      ]
    },
    {
      "cell_type": "markdown",
      "id": "fe6f0671",
      "metadata": {
        "id": "fe6f0671"
      },
      "source": [
        "# Baseline 3\n",
        "\n",
        "Посчитаем упоминания аспектов с предсказанной тональностью, припишем\n",
        "- `absence` - если нет упоминаний данной категории\n",
        "- `both` - если есть упоминания с разной тональностью\n",
        "- `positive/neutral/negative` - если все упоминания одной тональности"
      ]
    },
    {
      "cell_type": "code",
      "execution_count": null,
      "id": "02a2fa13",
      "metadata": {
        "id": "02a2fa13"
      },
      "outputs": [],
      "source": [
        "CATEGORIES = ['Whole', 'Interior', 'Service', 'Food', 'Price']"
      ]
    },
    {
      "cell_type": "code",
      "execution_count": null,
      "id": "3e263354",
      "metadata": {
        "id": "3e263354"
      },
      "outputs": [],
      "source": [
        "def get_full_sentiment(text, mentions, sentiment, max_len=5):\n",
        "    asp_counter = defaultdict(Counter)\n",
        "    for asp in label_texts(text, best_mention_cat, best_mention_sentiment, max_len):\n",
        "        category, *_, sentiment = asp\n",
        "        asp_counter[category][sentiment] += 1\n",
        "    for c in CATEGORIES:\n",
        "        if not asp_counter[c]:\n",
        "            s = 'absence'\n",
        "        elif len(asp_counter[c]) == 1:\n",
        "            s = asp_counter[c].most_common(1)[0][0]\n",
        "        else:\n",
        "            s = 'both'\n",
        "        yield c, s"
      ]
    },
    {
      "cell_type": "markdown",
      "metadata": {
        "id": "fmCmQsZYQJ3G"
      },
      "source": [
        "Применяем частотные данные к текстам из dev:"
      ],
      "id": "fmCmQsZYQJ3G"
    },
    {
      "cell_type": "code",
      "execution_count": null,
      "metadata": {
        "id": "Nzdz9rnWQJ3H"
      },
      "outputs": [],
      "source": [
        "with open('dev_pred_cats.txt', 'w') as f:\n",
        "    for text, idx in zip(dev_texts['text'], dev_texts['text_id']):\n",
        "        for c, s in get_full_sentiment(text, best_mention_cat, best_mention_sentiment):\n",
        "            print(idx, c, s, sep=\"\\t\", file=f)"
      ],
      "id": "Nzdz9rnWQJ3H"
    },
    {
      "cell_type": "markdown",
      "source": [
        "# Test"
      ],
      "metadata": {
        "id": "10gVmrRKCVfF"
      },
      "id": "10gVmrRKCVfF"
    },
    {
      "cell_type": "code",
      "execution_count": null,
      "metadata": {
        "id": "3d42dcf3"
      },
      "outputs": [],
      "source": [
        "gold_test_path = \"dev_aspects.txt\"\n",
        "pred_test_path = \"dev_pred_aspects.txt\""
      ],
      "id": "3d42dcf3"
    },
    {
      "cell_type": "markdown",
      "metadata": {
        "id": "f8e5a9cd"
      },
      "source": [
        "# Оценка 1: accuracy по выделению упоминаний с категориями"
      ],
      "id": "f8e5a9cd"
    },
    {
      "cell_type": "code",
      "execution_count": null,
      "metadata": {
        "id": "0c3bf6ae"
      },
      "outputs": [],
      "source": [
        "from collections import defaultdict"
      ],
      "id": "0c3bf6ae"
    },
    {
      "cell_type": "code",
      "execution_count": null,
      "metadata": {
        "id": "8fb687e6"
      },
      "outputs": [],
      "source": [
        "gold_aspect_cats = {}\n",
        "with open(gold_test_path) as fg:\n",
        "    for line in fg:\n",
        "        line = line.rstrip('\\r\\n').split('\\t')\n",
        "        if line[0] not in gold_aspect_cats:\n",
        "            gold_aspect_cats[line[0]] = {\"starts\":[], \"ends\":[], \"cats\":[], \"sents\":[]}\n",
        "        gold_aspect_cats[line[0]][\"starts\"].append(int(line[3]))\n",
        "        gold_aspect_cats[line[0]][\"ends\"].append(int(line[4]))\n",
        "        gold_aspect_cats[line[0]][\"cats\"].append(line[1])\n",
        "        gold_aspect_cats[line[0]][\"sents\"].append(line[5])"
      ],
      "id": "8fb687e6"
    },
    {
      "cell_type": "code",
      "execution_count": null,
      "metadata": {
        "id": "72d03788"
      },
      "outputs": [],
      "source": [
        "full_match, partial_match, full_cat_match, partial_cat_match = 0, 0, 0, 0\n",
        "total = 0\n",
        "fully_matched_pairs = []\n",
        "partially_matched_pairs = []\n",
        "with open(pred_test_path) as fp:\n",
        "    for line in fp:    \n",
        "        total += 1\n",
        "        line = line.rstrip('\\r\\n').split('\\t')\n",
        "        start, end = int(line[3]), int(line[4])\n",
        "        category = line[1]\n",
        "        doc_gold_aspect_cats = gold_aspect_cats[line[0]]\n",
        "        if start in doc_gold_aspect_cats[\"starts\"]:\n",
        "            i = doc_gold_aspect_cats[\"starts\"].index(start)\n",
        "            if doc_gold_aspect_cats[\"ends\"][i] == end:\n",
        "                full_match += 1\n",
        "                if doc_gold_aspect_cats[\"cats\"][i] == category:\n",
        "                    full_cat_match += 1\n",
        "                else:\n",
        "                    partial_cat_match += 1\n",
        "                fully_matched_pairs.append(\n",
        "                    (\n",
        "                        [\n",
        "                            doc_gold_aspect_cats[\"starts\"][i], \n",
        "                            doc_gold_aspect_cats[\"ends\"][i], \n",
        "                            doc_gold_aspect_cats[\"cats\"][i],\n",
        "                            doc_gold_aspect_cats[\"sents\"][i]\n",
        "                        ],\n",
        "                        line\n",
        "                    )\n",
        "                )\n",
        "                continue\n",
        "        for s_pos in doc_gold_aspect_cats[\"starts\"]:\n",
        "            if start <= s_pos:\n",
        "                i = doc_gold_aspect_cats[\"starts\"].index(s_pos)\n",
        "                if doc_gold_aspect_cats[\"ends\"][i] == end:\n",
        "                    partial_match += 1\n",
        "                    partially_matched_pairs.append(\n",
        "                        (\n",
        "                            [\n",
        "                                doc_gold_aspect_cats[\"starts\"][i], \n",
        "                                doc_gold_aspect_cats[\"ends\"][i], \n",
        "                                doc_gold_aspect_cats[\"cats\"][i],\n",
        "                                doc_gold_aspect_cats[\"sents\"][i]\n",
        "                            ],\n",
        "                            line\n",
        "                        )\n",
        "                    )\n",
        "                    if doc_gold_aspect_cats[\"cats\"][i] == category:\n",
        "                        partial_cat_match += 1\n",
        "                    continue\n",
        "                matched = False\n",
        "                for e_pos in doc_gold_aspect_cats[\"ends\"][i:]:\n",
        "                    if s_pos <= end <= e_pos:\n",
        "                        partial_match += 1\n",
        "                        partially_matched_pairs.append(\n",
        "                            (\n",
        "                                [\n",
        "                                    doc_gold_aspect_cats[\"starts\"][i], \n",
        "                                    doc_gold_aspect_cats[\"ends\"][i], \n",
        "                                    doc_gold_aspect_cats[\"cats\"][i],\n",
        "                                    doc_gold_aspect_cats[\"sents\"][i]\n",
        "                                ],\n",
        "                                line\n",
        "                            )\n",
        "                        )\n",
        "                        if doc_gold_aspect_cats[\"cats\"][i] == category:\n",
        "                            partial_cat_match += 1\n",
        "                        matched = True\n",
        "                        break\n",
        "                if matched:\n",
        "                    break\n",
        "            if start > s_pos:\n",
        "                i = doc_gold_aspect_cats[\"starts\"].index(s_pos)\n",
        "                if start < doc_gold_aspect_cats[\"ends\"][i] <= end:\n",
        "                    partial_match += 1\n",
        "                    partially_matched_pairs.append(\n",
        "                        (\n",
        "                            [\n",
        "                                doc_gold_aspect_cats[\"starts\"][i], \n",
        "                                doc_gold_aspect_cats[\"ends\"][i], \n",
        "                                doc_gold_aspect_cats[\"cats\"][i],\n",
        "                                doc_gold_aspect_cats[\"sents\"][i]\n",
        "                            ],\n",
        "                            line\n",
        "                        )\n",
        "                    )\n",
        "                    if doc_gold_aspect_cats[\"cats\"][i] == category:\n",
        "                        partial_cat_match += 1\n",
        "                    break"
      ],
      "id": "72d03788"
    },
    {
      "cell_type": "code",
      "execution_count": null,
      "metadata": {
        "id": "875e62bc"
      },
      "outputs": [],
      "source": [
        "gold_size = sum([len(gold_aspect_cats[x][\"cats\"]) for x in gold_aspect_cats])"
      ],
      "id": "875e62bc"
    },
    {
      "cell_type": "code",
      "execution_count": null,
      "metadata": {
        "id": "f0140d3a",
        "outputId": "9c8dddc5-dab2-4d5b-f0bc-570077d8df51",
        "colab": {
          "base_uri": "https://localhost:8080/"
        }
      },
      "outputs": [
        {
          "output_type": "stream",
          "name": "stdout",
          "text": [
            "\n",
            "Full match precision: 0.484985835694051\n",
            "Full match recall: 0.719327731092437\n",
            "Partial match ratio in pred: 0.6118980169971672\n",
            "Full category accuracy: 0.4594900849858357\n",
            "Partial category accuracy: 0.5988668555240794\n",
            "\n"
          ]
        }
      ],
      "source": [
        "print(f\"\"\"\n",
        "Full match precision: {full_match / total}\n",
        "Full match recall: {full_match / gold_size}\n",
        "Partial match ratio in pred: {(full_match + partial_match)  / total}\n",
        "Full category accuracy: {full_cat_match / total}\n",
        "Partial category accuracy: {(full_cat_match + partial_cat_match) / total}\n",
        "\"\"\")"
      ],
      "id": "f0140d3a"
    },
    {
      "cell_type": "markdown",
      "metadata": {
        "id": "74fd3833"
      },
      "source": [
        "# Оценка 2: accuracy по тональности упоминаний"
      ],
      "id": "74fd3833"
    },
    {
      "cell_type": "code",
      "execution_count": null,
      "metadata": {
        "id": "af14b470"
      },
      "outputs": [],
      "source": [
        "def sentiment_accuracy(matches):\n",
        "    matched_sentiment = 0.\n",
        "    for pair in matches:\n",
        "        *_, gold_s = pair[0]\n",
        "        *_, pred_s = pair[1]\n",
        "        if gold_s == pred_s:\n",
        "            matched_sentiment += 1\n",
        "    print(f\"Mention sentiment accuracy: {matched_sentiment / len(matches)}\")"
      ],
      "id": "af14b470"
    },
    {
      "cell_type": "markdown",
      "metadata": {
        "id": "b2433a85"
      },
      "source": [
        "Accuracy по полностью совпавшим упоминаниям:"
      ],
      "id": "b2433a85"
    },
    {
      "cell_type": "code",
      "execution_count": null,
      "metadata": {
        "id": "4fb606e7",
        "outputId": "2092889c-378d-4580-8c6d-a253c542b7e2",
        "colab": {
          "base_uri": "https://localhost:8080/"
        }
      },
      "outputs": [
        {
          "output_type": "stream",
          "name": "stdout",
          "text": [
            "Mention sentiment accuracy: 0.6518691588785047\n"
          ]
        }
      ],
      "source": [
        "sentiment_accuracy(fully_matched_pairs)"
      ],
      "id": "4fb606e7"
    },
    {
      "cell_type": "markdown",
      "metadata": {
        "id": "e60cf752"
      },
      "source": [
        "Accuracy по частично совпавшим упоминаниям:"
      ],
      "id": "e60cf752"
    },
    {
      "cell_type": "code",
      "execution_count": null,
      "metadata": {
        "id": "8dd77f7a",
        "outputId": "5b514551-0abb-417a-e8e4-4b3f3aafafae",
        "colab": {
          "base_uri": "https://localhost:8080/"
        }
      },
      "outputs": [
        {
          "output_type": "stream",
          "name": "stdout",
          "text": [
            "Mention sentiment accuracy: 0.5848214285714286\n"
          ]
        }
      ],
      "source": [
        "sentiment_accuracy(partially_matched_pairs)"
      ],
      "id": "8dd77f7a"
    },
    {
      "cell_type": "markdown",
      "metadata": {
        "id": "a3f284bf"
      },
      "source": [
        "# Оценка 3: accuracy по тональности категории"
      ],
      "id": "a3f284bf"
    },
    {
      "cell_type": "code",
      "execution_count": null,
      "metadata": {
        "id": "28091f5d"
      },
      "outputs": [],
      "source": [
        "gold_test_cats_path = \"dev_cats.txt\"\n",
        "pred_test_cats_path = \"dev_pred_cats.txt\""
      ],
      "id": "28091f5d"
    },
    {
      "cell_type": "code",
      "execution_count": null,
      "metadata": {
        "id": "7d8e5502",
        "outputId": "045507c8-6cb1-4dd4-de92-01641f919827",
        "colab": {
          "base_uri": "https://localhost:8080/"
        }
      },
      "outputs": [
        {
          "output_type": "stream",
          "name": "stdout",
          "text": [
            "Overall sentiment accuracy: 0.476056338028169\n"
          ]
        }
      ],
      "source": [
        "with open(gold_test_cats_path) as gc, open(pred_test_cats_path) as pc:\n",
        "    gold_labels = set(gc.readlines())\n",
        "    pred_labels = set(pc.readlines())\n",
        "    print(\n",
        "        \"Overall sentiment accuracy:\",\n",
        "        len(gold_labels & pred_labels) / len(gold_labels)\n",
        "    )"
      ],
      "id": "7d8e5502"
    }
  ],
  "metadata": {
    "kernelspec": {
      "display_name": "Python 3",
      "language": "python",
      "name": "python3"
    },
    "language_info": {
      "codemirror_mode": {
        "name": "ipython",
        "version": 3
      },
      "file_extension": ".py",
      "mimetype": "text/x-python",
      "name": "python",
      "nbconvert_exporter": "python",
      "pygments_lexer": "ipython3",
      "version": "3.9.4"
    },
    "colab": {
      "name": "Baselines completion.ipynb",
      "provenance": [],
      "collapsed_sections": []
    },
    "widgets": {
      "application/vnd.jupyter.widget-state+json": {
        "7fcebf90b65b4291a21f023c39d2d96c": {
          "model_module": "@jupyter-widgets/controls",
          "model_name": "HBoxModel",
          "model_module_version": "1.5.0",
          "state": {
            "_view_name": "HBoxView",
            "_dom_classes": [],
            "_model_name": "HBoxModel",
            "_view_module": "@jupyter-widgets/controls",
            "_model_module_version": "1.5.0",
            "_view_count": null,
            "_view_module_version": "1.5.0",
            "box_style": "",
            "layout": "IPY_MODEL_dbb709883d0d4b59b5d3f66b66a11201",
            "_model_module": "@jupyter-widgets/controls",
            "children": [
              "IPY_MODEL_fc9ea6dd7d084522a3732365e09dc10f",
              "IPY_MODEL_2305137682784e6ea44dbfb6eeec7b7a",
              "IPY_MODEL_7df6b71787b641c6be997022113f1bad"
            ]
          }
        },
        "dbb709883d0d4b59b5d3f66b66a11201": {
          "model_module": "@jupyter-widgets/base",
          "model_name": "LayoutModel",
          "model_module_version": "1.2.0",
          "state": {
            "_view_name": "LayoutView",
            "grid_template_rows": null,
            "right": null,
            "justify_content": null,
            "_view_module": "@jupyter-widgets/base",
            "overflow": null,
            "_model_module_version": "1.2.0",
            "_view_count": null,
            "flex_flow": null,
            "width": null,
            "min_width": null,
            "border": null,
            "align_items": null,
            "bottom": null,
            "_model_module": "@jupyter-widgets/base",
            "top": null,
            "grid_column": null,
            "overflow_y": null,
            "overflow_x": null,
            "grid_auto_flow": null,
            "grid_area": null,
            "grid_template_columns": null,
            "flex": null,
            "_model_name": "LayoutModel",
            "justify_items": null,
            "grid_row": null,
            "max_height": null,
            "align_content": null,
            "visibility": null,
            "align_self": null,
            "height": null,
            "min_height": null,
            "padding": null,
            "grid_auto_rows": null,
            "grid_gap": null,
            "max_width": null,
            "order": null,
            "_view_module_version": "1.2.0",
            "grid_template_areas": null,
            "object_position": null,
            "object_fit": null,
            "grid_auto_columns": null,
            "margin": null,
            "display": null,
            "left": null
          }
        },
        "fc9ea6dd7d084522a3732365e09dc10f": {
          "model_module": "@jupyter-widgets/controls",
          "model_name": "HTMLModel",
          "model_module_version": "1.5.0",
          "state": {
            "_view_name": "HTMLView",
            "style": "IPY_MODEL_a24856d836ea45259121af7b71f70d9d",
            "_dom_classes": [],
            "description": "",
            "_model_name": "HTMLModel",
            "placeholder": "​",
            "_view_module": "@jupyter-widgets/controls",
            "_model_module_version": "1.5.0",
            "value": "Downloading https://raw.githubusercontent.com/stanfordnlp/stanza-resources/main/resources_1.3.0.json: ",
            "_view_count": null,
            "_view_module_version": "1.5.0",
            "description_tooltip": null,
            "_model_module": "@jupyter-widgets/controls",
            "layout": "IPY_MODEL_b439a724df754fd895dac84f34b6d9bd"
          }
        },
        "2305137682784e6ea44dbfb6eeec7b7a": {
          "model_module": "@jupyter-widgets/controls",
          "model_name": "FloatProgressModel",
          "model_module_version": "1.5.0",
          "state": {
            "_view_name": "ProgressView",
            "style": "IPY_MODEL_134e49a07b734a949b77d0fc898ba233",
            "_dom_classes": [],
            "description": "",
            "_model_name": "FloatProgressModel",
            "bar_style": "success",
            "max": 24459,
            "_view_module": "@jupyter-widgets/controls",
            "_model_module_version": "1.5.0",
            "value": 24459,
            "_view_count": null,
            "_view_module_version": "1.5.0",
            "orientation": "horizontal",
            "min": 0,
            "description_tooltip": null,
            "_model_module": "@jupyter-widgets/controls",
            "layout": "IPY_MODEL_7974c6c9866242e5975f372519d1794d"
          }
        },
        "7df6b71787b641c6be997022113f1bad": {
          "model_module": "@jupyter-widgets/controls",
          "model_name": "HTMLModel",
          "model_module_version": "1.5.0",
          "state": {
            "_view_name": "HTMLView",
            "style": "IPY_MODEL_56bb73fb7d4041aaaeb4a93505c08010",
            "_dom_classes": [],
            "description": "",
            "_model_name": "HTMLModel",
            "placeholder": "​",
            "_view_module": "@jupyter-widgets/controls",
            "_model_module_version": "1.5.0",
            "value": " 142k/? [00:00&lt;00:00, 1.06MB/s]",
            "_view_count": null,
            "_view_module_version": "1.5.0",
            "description_tooltip": null,
            "_model_module": "@jupyter-widgets/controls",
            "layout": "IPY_MODEL_f13254f3ac1a4e73850733b874ada0c1"
          }
        },
        "a24856d836ea45259121af7b71f70d9d": {
          "model_module": "@jupyter-widgets/controls",
          "model_name": "DescriptionStyleModel",
          "model_module_version": "1.5.0",
          "state": {
            "_view_name": "StyleView",
            "_model_name": "DescriptionStyleModel",
            "description_width": "",
            "_view_module": "@jupyter-widgets/base",
            "_model_module_version": "1.5.0",
            "_view_count": null,
            "_view_module_version": "1.2.0",
            "_model_module": "@jupyter-widgets/controls"
          }
        },
        "b439a724df754fd895dac84f34b6d9bd": {
          "model_module": "@jupyter-widgets/base",
          "model_name": "LayoutModel",
          "model_module_version": "1.2.0",
          "state": {
            "_view_name": "LayoutView",
            "grid_template_rows": null,
            "right": null,
            "justify_content": null,
            "_view_module": "@jupyter-widgets/base",
            "overflow": null,
            "_model_module_version": "1.2.0",
            "_view_count": null,
            "flex_flow": null,
            "width": null,
            "min_width": null,
            "border": null,
            "align_items": null,
            "bottom": null,
            "_model_module": "@jupyter-widgets/base",
            "top": null,
            "grid_column": null,
            "overflow_y": null,
            "overflow_x": null,
            "grid_auto_flow": null,
            "grid_area": null,
            "grid_template_columns": null,
            "flex": null,
            "_model_name": "LayoutModel",
            "justify_items": null,
            "grid_row": null,
            "max_height": null,
            "align_content": null,
            "visibility": null,
            "align_self": null,
            "height": null,
            "min_height": null,
            "padding": null,
            "grid_auto_rows": null,
            "grid_gap": null,
            "max_width": null,
            "order": null,
            "_view_module_version": "1.2.0",
            "grid_template_areas": null,
            "object_position": null,
            "object_fit": null,
            "grid_auto_columns": null,
            "margin": null,
            "display": null,
            "left": null
          }
        },
        "134e49a07b734a949b77d0fc898ba233": {
          "model_module": "@jupyter-widgets/controls",
          "model_name": "ProgressStyleModel",
          "model_module_version": "1.5.0",
          "state": {
            "_view_name": "StyleView",
            "_model_name": "ProgressStyleModel",
            "description_width": "",
            "_view_module": "@jupyter-widgets/base",
            "_model_module_version": "1.5.0",
            "_view_count": null,
            "_view_module_version": "1.2.0",
            "bar_color": null,
            "_model_module": "@jupyter-widgets/controls"
          }
        },
        "7974c6c9866242e5975f372519d1794d": {
          "model_module": "@jupyter-widgets/base",
          "model_name": "LayoutModel",
          "model_module_version": "1.2.0",
          "state": {
            "_view_name": "LayoutView",
            "grid_template_rows": null,
            "right": null,
            "justify_content": null,
            "_view_module": "@jupyter-widgets/base",
            "overflow": null,
            "_model_module_version": "1.2.0",
            "_view_count": null,
            "flex_flow": null,
            "width": null,
            "min_width": null,
            "border": null,
            "align_items": null,
            "bottom": null,
            "_model_module": "@jupyter-widgets/base",
            "top": null,
            "grid_column": null,
            "overflow_y": null,
            "overflow_x": null,
            "grid_auto_flow": null,
            "grid_area": null,
            "grid_template_columns": null,
            "flex": null,
            "_model_name": "LayoutModel",
            "justify_items": null,
            "grid_row": null,
            "max_height": null,
            "align_content": null,
            "visibility": null,
            "align_self": null,
            "height": null,
            "min_height": null,
            "padding": null,
            "grid_auto_rows": null,
            "grid_gap": null,
            "max_width": null,
            "order": null,
            "_view_module_version": "1.2.0",
            "grid_template_areas": null,
            "object_position": null,
            "object_fit": null,
            "grid_auto_columns": null,
            "margin": null,
            "display": null,
            "left": null
          }
        },
        "56bb73fb7d4041aaaeb4a93505c08010": {
          "model_module": "@jupyter-widgets/controls",
          "model_name": "DescriptionStyleModel",
          "model_module_version": "1.5.0",
          "state": {
            "_view_name": "StyleView",
            "_model_name": "DescriptionStyleModel",
            "description_width": "",
            "_view_module": "@jupyter-widgets/base",
            "_model_module_version": "1.5.0",
            "_view_count": null,
            "_view_module_version": "1.2.0",
            "_model_module": "@jupyter-widgets/controls"
          }
        },
        "f13254f3ac1a4e73850733b874ada0c1": {
          "model_module": "@jupyter-widgets/base",
          "model_name": "LayoutModel",
          "model_module_version": "1.2.0",
          "state": {
            "_view_name": "LayoutView",
            "grid_template_rows": null,
            "right": null,
            "justify_content": null,
            "_view_module": "@jupyter-widgets/base",
            "overflow": null,
            "_model_module_version": "1.2.0",
            "_view_count": null,
            "flex_flow": null,
            "width": null,
            "min_width": null,
            "border": null,
            "align_items": null,
            "bottom": null,
            "_model_module": "@jupyter-widgets/base",
            "top": null,
            "grid_column": null,
            "overflow_y": null,
            "overflow_x": null,
            "grid_auto_flow": null,
            "grid_area": null,
            "grid_template_columns": null,
            "flex": null,
            "_model_name": "LayoutModel",
            "justify_items": null,
            "grid_row": null,
            "max_height": null,
            "align_content": null,
            "visibility": null,
            "align_self": null,
            "height": null,
            "min_height": null,
            "padding": null,
            "grid_auto_rows": null,
            "grid_gap": null,
            "max_width": null,
            "order": null,
            "_view_module_version": "1.2.0",
            "grid_template_areas": null,
            "object_position": null,
            "object_fit": null,
            "grid_auto_columns": null,
            "margin": null,
            "display": null,
            "left": null
          }
        },
        "04eb0b4dba9e4e4db879c764a77d1321": {
          "model_module": "@jupyter-widgets/controls",
          "model_name": "HBoxModel",
          "model_module_version": "1.5.0",
          "state": {
            "_view_name": "HBoxView",
            "_dom_classes": [],
            "_model_name": "HBoxModel",
            "_view_module": "@jupyter-widgets/controls",
            "_model_module_version": "1.5.0",
            "_view_count": null,
            "_view_module_version": "1.5.0",
            "box_style": "",
            "layout": "IPY_MODEL_dede8b6c086c4985a290294f3c42f073",
            "_model_module": "@jupyter-widgets/controls",
            "children": [
              "IPY_MODEL_22ba06b4426b48fa8f7e9b80126d66fb",
              "IPY_MODEL_f9ef8a796e234bcc87c3034c8bc0ee8b",
              "IPY_MODEL_926843cb429941379d56a1ac02cb6739"
            ]
          }
        },
        "dede8b6c086c4985a290294f3c42f073": {
          "model_module": "@jupyter-widgets/base",
          "model_name": "LayoutModel",
          "model_module_version": "1.2.0",
          "state": {
            "_view_name": "LayoutView",
            "grid_template_rows": null,
            "right": null,
            "justify_content": null,
            "_view_module": "@jupyter-widgets/base",
            "overflow": null,
            "_model_module_version": "1.2.0",
            "_view_count": null,
            "flex_flow": null,
            "width": null,
            "min_width": null,
            "border": null,
            "align_items": null,
            "bottom": null,
            "_model_module": "@jupyter-widgets/base",
            "top": null,
            "grid_column": null,
            "overflow_y": null,
            "overflow_x": null,
            "grid_auto_flow": null,
            "grid_area": null,
            "grid_template_columns": null,
            "flex": null,
            "_model_name": "LayoutModel",
            "justify_items": null,
            "grid_row": null,
            "max_height": null,
            "align_content": null,
            "visibility": null,
            "align_self": null,
            "height": null,
            "min_height": null,
            "padding": null,
            "grid_auto_rows": null,
            "grid_gap": null,
            "max_width": null,
            "order": null,
            "_view_module_version": "1.2.0",
            "grid_template_areas": null,
            "object_position": null,
            "object_fit": null,
            "grid_auto_columns": null,
            "margin": null,
            "display": null,
            "left": null
          }
        },
        "22ba06b4426b48fa8f7e9b80126d66fb": {
          "model_module": "@jupyter-widgets/controls",
          "model_name": "HTMLModel",
          "model_module_version": "1.5.0",
          "state": {
            "_view_name": "HTMLView",
            "style": "IPY_MODEL_44638bf47b6f48328b3e662395b8a4fc",
            "_dom_classes": [],
            "description": "",
            "_model_name": "HTMLModel",
            "placeholder": "​",
            "_view_module": "@jupyter-widgets/controls",
            "_model_module_version": "1.5.0",
            "value": "Downloading https://huggingface.co/stanfordnlp/stanza-ru/resolve/v1.3.0/models/default.zip: 100%",
            "_view_count": null,
            "_view_module_version": "1.5.0",
            "description_tooltip": null,
            "_model_module": "@jupyter-widgets/controls",
            "layout": "IPY_MODEL_210fffe46f8d40d3b3ccd70f30116249"
          }
        },
        "f9ef8a796e234bcc87c3034c8bc0ee8b": {
          "model_module": "@jupyter-widgets/controls",
          "model_name": "FloatProgressModel",
          "model_module_version": "1.5.0",
          "state": {
            "_view_name": "ProgressView",
            "style": "IPY_MODEL_f69d5eb9f9404d32b0e59a602263919c",
            "_dom_classes": [],
            "description": "",
            "_model_name": "FloatProgressModel",
            "bar_style": "success",
            "max": 574067219,
            "_view_module": "@jupyter-widgets/controls",
            "_model_module_version": "1.5.0",
            "value": 574067219,
            "_view_count": null,
            "_view_module_version": "1.5.0",
            "orientation": "horizontal",
            "min": 0,
            "description_tooltip": null,
            "_model_module": "@jupyter-widgets/controls",
            "layout": "IPY_MODEL_e92956f40f9a41889f92d0ad1903d015"
          }
        },
        "926843cb429941379d56a1ac02cb6739": {
          "model_module": "@jupyter-widgets/controls",
          "model_name": "HTMLModel",
          "model_module_version": "1.5.0",
          "state": {
            "_view_name": "HTMLView",
            "style": "IPY_MODEL_518ba98589024ed7bcc9aff8c4154117",
            "_dom_classes": [],
            "description": "",
            "_model_name": "HTMLModel",
            "placeholder": "​",
            "_view_module": "@jupyter-widgets/controls",
            "_model_module_version": "1.5.0",
            "value": " 574M/574M [00:09&lt;00:00, 65.5MB/s]",
            "_view_count": null,
            "_view_module_version": "1.5.0",
            "description_tooltip": null,
            "_model_module": "@jupyter-widgets/controls",
            "layout": "IPY_MODEL_1f599b72b0d74551b4e08f8394160540"
          }
        },
        "44638bf47b6f48328b3e662395b8a4fc": {
          "model_module": "@jupyter-widgets/controls",
          "model_name": "DescriptionStyleModel",
          "model_module_version": "1.5.0",
          "state": {
            "_view_name": "StyleView",
            "_model_name": "DescriptionStyleModel",
            "description_width": "",
            "_view_module": "@jupyter-widgets/base",
            "_model_module_version": "1.5.0",
            "_view_count": null,
            "_view_module_version": "1.2.0",
            "_model_module": "@jupyter-widgets/controls"
          }
        },
        "210fffe46f8d40d3b3ccd70f30116249": {
          "model_module": "@jupyter-widgets/base",
          "model_name": "LayoutModel",
          "model_module_version": "1.2.0",
          "state": {
            "_view_name": "LayoutView",
            "grid_template_rows": null,
            "right": null,
            "justify_content": null,
            "_view_module": "@jupyter-widgets/base",
            "overflow": null,
            "_model_module_version": "1.2.0",
            "_view_count": null,
            "flex_flow": null,
            "width": null,
            "min_width": null,
            "border": null,
            "align_items": null,
            "bottom": null,
            "_model_module": "@jupyter-widgets/base",
            "top": null,
            "grid_column": null,
            "overflow_y": null,
            "overflow_x": null,
            "grid_auto_flow": null,
            "grid_area": null,
            "grid_template_columns": null,
            "flex": null,
            "_model_name": "LayoutModel",
            "justify_items": null,
            "grid_row": null,
            "max_height": null,
            "align_content": null,
            "visibility": null,
            "align_self": null,
            "height": null,
            "min_height": null,
            "padding": null,
            "grid_auto_rows": null,
            "grid_gap": null,
            "max_width": null,
            "order": null,
            "_view_module_version": "1.2.0",
            "grid_template_areas": null,
            "object_position": null,
            "object_fit": null,
            "grid_auto_columns": null,
            "margin": null,
            "display": null,
            "left": null
          }
        },
        "f69d5eb9f9404d32b0e59a602263919c": {
          "model_module": "@jupyter-widgets/controls",
          "model_name": "ProgressStyleModel",
          "model_module_version": "1.5.0",
          "state": {
            "_view_name": "StyleView",
            "_model_name": "ProgressStyleModel",
            "description_width": "",
            "_view_module": "@jupyter-widgets/base",
            "_model_module_version": "1.5.0",
            "_view_count": null,
            "_view_module_version": "1.2.0",
            "bar_color": null,
            "_model_module": "@jupyter-widgets/controls"
          }
        },
        "e92956f40f9a41889f92d0ad1903d015": {
          "model_module": "@jupyter-widgets/base",
          "model_name": "LayoutModel",
          "model_module_version": "1.2.0",
          "state": {
            "_view_name": "LayoutView",
            "grid_template_rows": null,
            "right": null,
            "justify_content": null,
            "_view_module": "@jupyter-widgets/base",
            "overflow": null,
            "_model_module_version": "1.2.0",
            "_view_count": null,
            "flex_flow": null,
            "width": null,
            "min_width": null,
            "border": null,
            "align_items": null,
            "bottom": null,
            "_model_module": "@jupyter-widgets/base",
            "top": null,
            "grid_column": null,
            "overflow_y": null,
            "overflow_x": null,
            "grid_auto_flow": null,
            "grid_area": null,
            "grid_template_columns": null,
            "flex": null,
            "_model_name": "LayoutModel",
            "justify_items": null,
            "grid_row": null,
            "max_height": null,
            "align_content": null,
            "visibility": null,
            "align_self": null,
            "height": null,
            "min_height": null,
            "padding": null,
            "grid_auto_rows": null,
            "grid_gap": null,
            "max_width": null,
            "order": null,
            "_view_module_version": "1.2.0",
            "grid_template_areas": null,
            "object_position": null,
            "object_fit": null,
            "grid_auto_columns": null,
            "margin": null,
            "display": null,
            "left": null
          }
        },
        "518ba98589024ed7bcc9aff8c4154117": {
          "model_module": "@jupyter-widgets/controls",
          "model_name": "DescriptionStyleModel",
          "model_module_version": "1.5.0",
          "state": {
            "_view_name": "StyleView",
            "_model_name": "DescriptionStyleModel",
            "description_width": "",
            "_view_module": "@jupyter-widgets/base",
            "_model_module_version": "1.5.0",
            "_view_count": null,
            "_view_module_version": "1.2.0",
            "_model_module": "@jupyter-widgets/controls"
          }
        },
        "1f599b72b0d74551b4e08f8394160540": {
          "model_module": "@jupyter-widgets/base",
          "model_name": "LayoutModel",
          "model_module_version": "1.2.0",
          "state": {
            "_view_name": "LayoutView",
            "grid_template_rows": null,
            "right": null,
            "justify_content": null,
            "_view_module": "@jupyter-widgets/base",
            "overflow": null,
            "_model_module_version": "1.2.0",
            "_view_count": null,
            "flex_flow": null,
            "width": null,
            "min_width": null,
            "border": null,
            "align_items": null,
            "bottom": null,
            "_model_module": "@jupyter-widgets/base",
            "top": null,
            "grid_column": null,
            "overflow_y": null,
            "overflow_x": null,
            "grid_auto_flow": null,
            "grid_area": null,
            "grid_template_columns": null,
            "flex": null,
            "_model_name": "LayoutModel",
            "justify_items": null,
            "grid_row": null,
            "max_height": null,
            "align_content": null,
            "visibility": null,
            "align_self": null,
            "height": null,
            "min_height": null,
            "padding": null,
            "grid_auto_rows": null,
            "grid_gap": null,
            "max_width": null,
            "order": null,
            "_view_module_version": "1.2.0",
            "grid_template_areas": null,
            "object_position": null,
            "object_fit": null,
            "grid_auto_columns": null,
            "margin": null,
            "display": null,
            "left": null
          }
        }
      }
    }
  },
  "nbformat": 4,
  "nbformat_minor": 5
}